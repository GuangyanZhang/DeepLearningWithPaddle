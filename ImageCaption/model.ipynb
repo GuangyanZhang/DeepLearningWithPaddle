{
 "cells": [
  {
   "cell_type": "code",
   "execution_count": null,
   "metadata": {},
   "outputs": [],
   "source": [
    "# -*- coding: utf-8 -*-\n",
    "import gzip\n",
    "import copy\n",
    "import numpy as np\n",
    "from PIL import Image\n",
    "import paddle.v2 as paddle"
   ]
  },
  {
   "cell_type": "markdown",
   "metadata": {},
   "source": [
    "## ResNet 50 Model"
   ]
  },
  {
   "cell_type": "code",
   "execution_count": null,
   "metadata": {},
   "outputs": [],
   "source": [
    "DATA_DIM=224*224*3\n",
    "DICT_DIM=10000\n",
    "image = paddle.layer.data(name=\"image\", type=paddle.data_type.dense_vector(DATA_DIM))\n",
    "target = paddle.layer.data(name=\"target\", type=paddle.data_type.integer_value_sequence(DICT_DIM))\n",
    "label = paddle.layer.data(name=\"label\", type=paddle.data_type.integer_value_sequence(DICT_DIM))\n",
    "paddle.init(use_gpu=False, trainer_count=1)\n"
   ]
  },
  {
   "cell_type": "code",
   "execution_count": null,
   "metadata": {},
   "outputs": [],
   "source": [
    "def conv_bn_layer(input,\n",
    "                  ch_out,\n",
    "                  filter_size,\n",
    "                  stride,\n",
    "                  padding,\n",
    "                  active_type=paddle.activation.Relu(),\n",
    "                  ch_in=None):\n",
    "    tmp = paddle.layer.img_conv(\n",
    "        input=input,\n",
    "        filter_size=filter_size,\n",
    "        num_channels=ch_in,\n",
    "        num_filters=ch_out,\n",
    "        stride=stride,\n",
    "        padding=padding,\n",
    "        act=paddle.activation.Linear(),\n",
    "        bias_attr=False)\n",
    "    return paddle.layer.batch_norm(input=tmp, act=active_type)\n",
    "\n",
    "\n",
    "def shortcut(input, ch_out, stride):\n",
    "    if input.num_filters != ch_out:\n",
    "        return conv_bn_layer(input, ch_out, 1, stride, 0,\n",
    "                             paddle.activation.Linear())\n",
    "    else:\n",
    "        return input\n",
    "\n",
    "\n",
    "def basicblock(input, ch_out, stride):\n",
    "    short = shortcut(input, ch_out, stride)\n",
    "    conv1 = conv_bn_layer(input, ch_out, 3, stride, 1)\n",
    "    conv2 = conv_bn_layer(conv1, ch_out, 3, 1, 1, paddle.activation.Linear())\n",
    "    return paddle.layer.addto(\n",
    "        input=[short, conv2], act=paddle.activation.Relu())\n",
    "\n",
    "\n",
    "def bottleneck(input, ch_out, stride):\n",
    "    short = shortcut(input, ch_out * 4, stride)\n",
    "    conv1 = conv_bn_layer(input, ch_out, 1, stride, 0)\n",
    "    conv2 = conv_bn_layer(conv1, ch_out, 3, 1, 1)\n",
    "    conv3 = conv_bn_layer(conv2, ch_out * 4, 1, 1, 0,\n",
    "                          paddle.activation.Linear())\n",
    "    return paddle.layer.addto(\n",
    "        input=[short, conv3], act=paddle.activation.Relu())\n",
    "\n",
    "\n",
    "def layer_warp(block_func, input, ch_out, count, stride):\n",
    "    conv = block_func(input, ch_out, stride)\n",
    "    for i in range(1, count):\n",
    "        conv = block_func(conv, ch_out, 1)\n",
    "    return conv\n",
    "\n",
    "\n",
    "def resnet_imagenet(input, depth=50):\n",
    "    cfg = {\n",
    "        18: ([2, 2, 2, 1], basicblock),\n",
    "        34: ([3, 4, 6, 3], basicblock),\n",
    "        50: ([3, 4, 6, 3], bottleneck),\n",
    "        101: ([3, 4, 23, 3], bottleneck),\n",
    "        152: ([3, 8, 36, 3], bottleneck)\n",
    "    }\n",
    "    stages, block_func = cfg[depth]\n",
    "    conv1 = conv_bn_layer(\n",
    "        input, ch_in=3, ch_out=64, filter_size=7, stride=2, padding=3)\n",
    "    pool1 = paddle.layer.img_pool(input=conv1, pool_size=3, stride=2)\n",
    "    res1 = layer_warp(block_func, pool1, 64, stages[0], 1)\n",
    "    res2 = layer_warp(block_func, res1, 128, stages[1], 2)\n",
    "    res3 = layer_warp(block_func, res2, 256, stages[2], 2)\n",
    "    res4 = layer_warp(block_func, res3, 512, stages[3], 2)\n",
    "    pool2 = paddle.layer.img_pool(\n",
    "        input=res4, pool_size=7, stride=1, pool_type=paddle.pooling.Avg())\n",
    "    output = paddle.layer.fc(pool2, act=paddle.activation.Softmax(), size=1000)\n",
    "    return pool2\n"
   ]
  },
  {
   "cell_type": "code",
   "execution_count": null,
   "metadata": {},
   "outputs": [],
   "source": [
    "def decoder(features, target, dict_dim, embed_size=512, label=None, is_train=True):\n",
    "    \n",
    "    encoded_features = paddle.layer.fc(\n",
    "        input=features,\n",
    "        size=512,\n",
    "        act=paddle.activation.Relu(),\n",
    "        name='encoded_features'\n",
    "    )\n",
    "        \n",
    "    input_emb = paddle.layer.embedding(target, size=embed_size, name='embedding')\n",
    "    input_emb = paddle.layer.fc(input=input_emb, size=512*3)\n",
    "    \n",
    "    grus = paddle.networks.gru_group(\n",
    "        input=[input_emb],\n",
    "        memory_boot=encoded_features,\n",
    "        size=512,\n",
    "        name='gru_group_layer'\n",
    "    )\n",
    "    # input_ = paddle.layer.concat(input=inputs)\n",
    "    \n",
    "#     rnn = paddle.networks.bidirectional_gru(input=inputs, size=1024, return_seq=True)\n",
    "    \n",
    "#     for i in xrange(num_layers-1):\n",
    "#         rnn = paddle.networks.simple_lstm(input=rnn, size=512)\n",
    "    \n",
    "    output = paddle.layer.fc(input=grus, size=dict_dim, act=paddle.activation.Softmax())\n",
    "    \n",
    "    if is_train:\n",
    "        cost = paddle.layer.classification_cost(input=output, label=label)\n",
    "        return cost\n",
    "    else:\n",
    "        last_word = paddle.layer.last_seq(input=output)\n",
    "        return last_word    "
   ]
  },
  {
   "cell_type": "code",
   "execution_count": null,
   "metadata": {},
   "outputs": [],
   "source": [
    "def train_caption_net(input_images, target, label, dict_dim):\n",
    "    \n",
    "    encoder_ = resnet_imagenet(input_images)\n",
    "    cost = decoder(features=encoder_, target=target, label=label, dict_dim=dict_dim)\n",
    "    \n",
    "    return cost\n",
    "    "
   ]
  },
  {
   "cell_type": "code",
   "execution_count": null,
   "metadata": {},
   "outputs": [],
   "source": [
    "def event_handler(event):\n",
    "    if isinstance(event, paddle.event.EndIteration):\n",
    "        if event.batch_id % 1 == 0:\n",
    "            print \"\\nPass %d, Batch %d, Cost %f, %s\" % (\n",
    "                event.pass_id, event.batch_id, event.cost, event.metrics)\n",
    "    if isinstance(event, paddle.event.EndPass):\n",
    "        with gzip.open('params_pass_%d.tar.gz' % event.pass_id, 'w') as f:\n",
    "            parameters.to_tar(f)\n",
    "\n",
    "        result = trainer.test(reader=test_reader)\n",
    "        print \"\\nTest with Pass %d, %s\" % (event.pass_id, result.metrics)"
   ]
  },
  {
   "cell_type": "code",
   "execution_count": null,
   "metadata": {},
   "outputs": [],
   "source": [
    "DICT_DIM=10000"
   ]
  },
  {
   "cell_type": "code",
   "execution_count": null,
   "metadata": {
    "scrolled": false
   },
   "outputs": [],
   "source": [
    "cost = train_caption_net(dict_dim=DICT_DIM, target=target, label=label, input_images=image)"
   ]
  },
  {
   "cell_type": "code",
   "execution_count": null,
   "metadata": {},
   "outputs": [],
   "source": [
    "adam_optimizer = paddle.optimizer.Adam(\n",
    "    learning_rate=1e-4,\n",
    "    regularization=paddle.optimizer.L2Regularization(rate=8e-4),\n",
    "    model_average=paddle.optimizer.ModelAverage(average_window=0.5)\n",
    ")"
   ]
  },
  {
   "cell_type": "code",
   "execution_count": null,
   "metadata": {},
   "outputs": [],
   "source": [
    "label = np.random.randint(2,10000, 11)\n",
    "label[-1] = 1\n",
    "target = np.zeros(11).astype('int')\n",
    "target[1:11] = label[:-1]\n",
    "target[0] = 0\n",
    "print(target)\n",
    "print(label)"
   ]
  },
  {
   "cell_type": "code",
   "execution_count": null,
   "metadata": {},
   "outputs": [],
   "source": [
    "def create_reader():\n",
    "    \n",
    "    def reader():\n",
    "        \n",
    "        for i in xrange(10):\n",
    "        \n",
    "            image = np.random.randn(224*224*3) * 255\n",
    "            label = np.random.randint(2,10000, 11)\n",
    "            label[-1] = 1\n",
    "            target = np.zeros(11).astype('int')\n",
    "            target[1:11] = label[:-1]\n",
    "            target[0] = 0\n",
    "\n",
    "            yield image, target, label\n",
    "    return reader\n",
    "        "
   ]
  },
  {
   "cell_type": "code",
   "execution_count": null,
   "metadata": {},
   "outputs": [],
   "source": [
    "train_reader = create_reader()\n",
    "train_batch = paddle.batch(reader=paddle.reader.shuffle(train_reader, buf_size=10),batch_size=4)"
   ]
  },
  {
   "cell_type": "code",
   "execution_count": null,
   "metadata": {},
   "outputs": [],
   "source": [
    "feeding = {'image':0, 'label':2, 'target':1}"
   ]
  },
  {
   "cell_type": "code",
   "execution_count": null,
   "metadata": {},
   "outputs": [],
   "source": [
    "parameters = paddle.parameters.create(cost)\n",
    "parameters.init_from_tar(gzip.open('params/Paddle_ResNet50.tar.gz'))"
   ]
  },
  {
   "cell_type": "code",
   "execution_count": null,
   "metadata": {},
   "outputs": [],
   "source": [
    "trainer = paddle.trainer.SGD(cost=cost,parameters=parameters,update_equation=adam_optimizer)"
   ]
  },
  {
   "cell_type": "code",
   "execution_count": null,
   "metadata": {},
   "outputs": [],
   "source": [
    "trainer.train(reader=train_batch,event_handler=event_handler,feeding=feeding,num_passes=10)"
   ]
  },
  {
   "cell_type": "code",
   "execution_count": null,
   "metadata": {},
   "outputs": [],
   "source": []
  }
 ],
 "metadata": {
  "kernelspec": {
   "display_name": "Python 2",
   "language": "python",
   "name": "python2"
  },
  "language_info": {
   "codemirror_mode": {
    "name": "ipython",
    "version": 2
   },
   "file_extension": ".py",
   "mimetype": "text/x-python",
   "name": "python",
   "nbconvert_exporter": "python",
   "pygments_lexer": "ipython2",
   "version": "2.7.10"
  }
 },
 "nbformat": 4,
 "nbformat_minor": 2
}
