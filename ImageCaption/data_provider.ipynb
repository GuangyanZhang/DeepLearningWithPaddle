{
 "cells": [
  {
   "cell_type": "code",
   "execution_count": 1,
   "metadata": {},
   "outputs": [],
   "source": [
    "# -*- coding: utf-8 -*-"
   ]
  },
  {
   "cell_type": "code",
   "execution_count": 55,
   "metadata": {},
   "outputs": [],
   "source": [
    "import pickle\n",
    "import numpy as np\n",
    "from PIL import Image\n",
    "import paddle.v2 as paddle\n"
   ]
  },
  {
   "cell_type": "code",
   "execution_count": 3,
   "metadata": {},
   "outputs": [],
   "source": [
    "def open_image(img_path):\n",
    "    img = Image.open(img_path)\n",
    "    img = np.array(img)\n",
    "    return img"
   ]
  },
  {
   "cell_type": "markdown",
   "metadata": {},
   "source": [
    "## Processing the language"
   ]
  },
  {
   "cell_type": "code",
   "execution_count": 4,
   "metadata": {},
   "outputs": [],
   "source": [
    "token_file_path = 'data/Flickr8k_text/Flickr8k.token.txt'\n",
    "\n",
    "with open(token_file_path, 'r') as f:\n",
    "    lines = f.readlines()\n",
    "lines = [x.strip('\\n\\r') for x in lines]"
   ]
  },
  {
   "cell_type": "code",
   "execution_count": 5,
   "metadata": {},
   "outputs": [],
   "source": [
    "sentences = dict()\n",
    "for line in lines:\n",
    "    elements = line.split('\\t')\n",
    "    img_name = elements[0].split('#')[0]\n",
    "    if img_name not in sentences:\n",
    "        sentences[img_name] = elements[1]"
   ]
  },
  {
   "cell_type": "code",
   "execution_count": 53,
   "metadata": {},
   "outputs": [
    {
     "name": "stdout",
     "output_type": "stream",
     "text": [
      "['3132619510_7dfc947d25.jpg', '3074842262_62b1b2168c.jpg', '3106782647_b078830a9e.jpg', '3447876218_4ccf42d7a0.jpg', '2966552760_e65b22cd26.jpg', '3523471597_87e0bf3b21.jpg', '3538213870_9856a76b2a.jpg', '2824401212_8da8ab99d6.jpg', '3655773435_c234e94820.jpg']\n"
     ]
    }
   ],
   "source": [
    "print(sentences.keys()[1:10])"
   ]
  },
  {
   "cell_type": "code",
   "execution_count": 7,
   "metadata": {},
   "outputs": [],
   "source": [
    "sentence_words = dict()\n",
    "def build_dict():\n",
    "    tokens = dict()\n",
    "    for key in sentences.keys():\n",
    "        words = sentences[key].lower().split(' ')\n",
    "        if words[-1] == '.':\n",
    "            words = words[:-1]\n",
    "        sentence_words[key] = words\n",
    "        for word in words:\n",
    "            num = tokens.get(word, 0)\n",
    "            tokens[word] = num + 1\n",
    "    return tokens\n",
    "\n",
    "tokens = build_dict()"
   ]
  },
  {
   "cell_type": "code",
   "execution_count": 8,
   "metadata": {},
   "outputs": [],
   "source": [
    "__UNK__ = 'UNK'\n",
    "__GO__ = 'GO'\n",
    "__EOS__ = 'EOS'"
   ]
  },
  {
   "cell_type": "code",
   "execution_count": 9,
   "metadata": {},
   "outputs": [],
   "source": [
    "vocabulary = [__UNK__, __GO__, __EOS__] + sorted(tokens, key=tokens.get, reverse=True)"
   ]
  },
  {
   "cell_type": "code",
   "execution_count": 10,
   "metadata": {},
   "outputs": [
    {
     "name": "stdout",
     "output_type": "stream",
     "text": [
      "['UNK', 'GO', 'EOS', 'a', 'in', 'the', 'and', 'on', 'is', 'dog', 'of', 'man', 'with', 'black', 'boy', 'white', 'girl', 'brown', 'are', 'to']\n"
     ]
    }
   ],
   "source": [
    "print(vocabulary[:20])"
   ]
  },
  {
   "cell_type": "code",
   "execution_count": 38,
   "metadata": {},
   "outputs": [],
   "source": [
    "word_id = {}\n",
    "id_word = {}\n",
    "for (i, v) in enumerate(vocabulary):\n",
    "    word_id[v] = i\n",
    "    id_word[i] = v"
   ]
  },
  {
   "cell_type": "code",
   "execution_count": 39,
   "metadata": {},
   "outputs": [
    {
     "name": "stdout",
     "output_type": "stream",
     "text": [
      "4529\n"
     ]
    }
   ],
   "source": [
    "dict_dim = len(word_id)\n",
    "print(dict_dim)"
   ]
  },
  {
   "cell_type": "code",
   "execution_count": 40,
   "metadata": {},
   "outputs": [],
   "source": [
    "# Convert sentence to integers\n",
    "def convert2id(words_ids, sentences):\n",
    "    result = {}\n",
    "    for key in sentences.keys():\n",
    "        \n",
    "        words = sentences[key]\n",
    "        word_id = [words_ids.get(x, 0) for x in words ]\n",
    "        result[key] = word_id\n",
    "    \n",
    "    return result"
   ]
  },
  {
   "cell_type": "code",
   "execution_count": 41,
   "metadata": {},
   "outputs": [],
   "source": [
    "sentences_ids = convert2id(word_id, sentence_words)"
   ]
  },
  {
   "cell_type": "code",
   "execution_count": 42,
   "metadata": {},
   "outputs": [
    {
     "name": "stdout",
     "output_type": "stream",
     "text": [
      "('A white dog with brown ears leaps at a white dog running from it .', [3, 15, 9, 12, 17, 531, 244, 20, 3, 15, 9, 34, 60, 132])\n"
     ]
    }
   ],
   "source": [
    "print(sentences[sentences_ids.keys()[1]], sentences_ids[sentences_ids.keys()[1]])"
   ]
  },
  {
   "cell_type": "code",
   "execution_count": 43,
   "metadata": {},
   "outputs": [],
   "source": [
    "def save_dict(dict_path, word2id, id2word):\n",
    "    f = open(dict_path+'word2id.pkl', 'wb')\n",
    "    pickle.dump(word2id, f)\n",
    "    f.close()\n",
    "        \n",
    "    f = open(dict_path+'id2word.pkl', 'wb')\n",
    "    pickle.dump(id2word, f)\n",
    "    f.close()\n"
   ]
  },
  {
   "cell_type": "code",
   "execution_count": 44,
   "metadata": {},
   "outputs": [],
   "source": [
    "def load_dict(dict_path):\n",
    "    f = open(dict_path+'word2id.pkl', 'rb')\n",
    "    word2id = pickle.load(f)\n",
    "    f.close()\n",
    "        \n",
    "    f = open(dict_path+'id2word.pkl', 'rb')\n",
    "    id2word = pickle.load(f)\n",
    "    f.close()\n",
    "    return word2id, id2word"
   ]
  },
  {
   "cell_type": "code",
   "execution_count": 49,
   "metadata": {},
   "outputs": [],
   "source": [
    "save_dict('dict/', word_id, id_word)"
   ]
  },
  {
   "cell_type": "code",
   "execution_count": 50,
   "metadata": {},
   "outputs": [],
   "source": [
    "p, m = load_dict('dict/')"
   ]
  },
  {
   "cell_type": "code",
   "execution_count": 54,
   "metadata": {},
   "outputs": [],
   "source": [
    "img_dir = '/Users/Vic/Dev/DeepLearning/Paddle/DeepLearningWithPaddle/ImageCaption/data/'\n",
    "img_paths = [img_dir+'10815824_2997e03d76.jpg', img_dir+'58363930_0544844edd.jpg']"
   ]
  },
  {
   "cell_type": "code",
   "execution_count": 60,
   "metadata": {},
   "outputs": [],
   "source": []
  },
  {
   "cell_type": "code",
   "execution_count": 61,
   "metadata": {},
   "outputs": [
    {
     "data": {
      "text/plain": [
       "(3, 224, 224)"
      ]
     },
     "execution_count": 61,
     "metadata": {},
     "output_type": "execute_result"
    }
   ],
   "source": []
  },
  {
   "cell_type": "code",
   "execution_count": null,
   "metadata": {},
   "outputs": [],
   "source": []
  }
 ],
 "metadata": {
  "kernelspec": {
   "display_name": "Python 2",
   "language": "python",
   "name": "python2"
  },
  "language_info": {
   "codemirror_mode": {
    "name": "ipython",
    "version": 2
   },
   "file_extension": ".py",
   "mimetype": "text/x-python",
   "name": "python",
   "nbconvert_exporter": "python",
   "pygments_lexer": "ipython2",
   "version": "2.7.10"
  }
 },
 "nbformat": 4,
 "nbformat_minor": 2
}
